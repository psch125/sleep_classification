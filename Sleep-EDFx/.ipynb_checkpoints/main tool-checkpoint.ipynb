{
 "cells": [
  {
   "cell_type": "code",
   "execution_count": null,
   "metadata": {},
   "outputs": [
    {
     "name": "stdout",
     "output_type": "stream",
     "text": [
      "■■■■■■■■■■■■■\n",
      "■  1.시           작   ■\n",
      "■                      ■\n",
      "■  2.프 로 그 램 종료  ■\n",
      "■■■■■■■■■■■■■\n",
      "\n",
      "입력 >> 1\n"
     ]
    }
   ],
   "source": [
    "from tool import*\n",
    "\n",
    "def menu():\n",
    "    print(\"■■■■■■■■■■■■■\")\n",
    "    print(\"■  1.시           작   ■\")\n",
    "    print(\"■                      ■\")\n",
    "    print(\"■  2.프 로 그 램 종료  ■\")\n",
    "    print(\"■■■■■■■■■■■■■\")\n",
    "    \n",
    "while True :\n",
    "    menu()\n",
    "    ch=int(input(\"\\n입력 >> \"))\n",
    "\n",
    "    if ch==1:\n",
    "        file=input(\"파일이름 : \") ## 추후 넣는 방식 수정 (함수+스크립트형식)\n",
    "\n",
    "        select(file)\n",
    "\n",
    "        continue\n",
    "    \n",
    "    if ch==2:\n",
    "        break\n",
    "\n"
   ]
  },
  {
   "cell_type": "markdown",
   "metadata": {},
   "source": []
  },
  {
   "cell_type": "code",
   "execution_count": null,
   "metadata": {},
   "outputs": [],
   "source": []
  }
 ],
 "metadata": {
  "kernelspec": {
   "display_name": "Python 3",
   "language": "python",
   "name": "python3"
  },
  "language_info": {
   "codemirror_mode": {
    "name": "ipython",
    "version": 3
   },
   "file_extension": ".py",
   "mimetype": "text/x-python",
   "name": "python",
   "nbconvert_exporter": "python",
   "pygments_lexer": "ipython3",
   "version": "3.8.5"
  }
 },
 "nbformat": 4,
 "nbformat_minor": 4
}
