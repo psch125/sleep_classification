{
 "cells": [
  {
   "cell_type": "code",
   "execution_count": 2,
   "metadata": {
    "scrolled": false
   },
   "outputs": [
    {
     "name": "stdout",
     "output_type": "stream",
     "text": [
      "(3000, 144, 216, 3)\n",
      "3000\n",
      "(1000, 144, 216, 3)\n",
      "진행중\n",
      "진행중2\n",
      "INFO:tensorflow:Using MirroredStrategy with devices ('/job:localhost/replica:0/task:0/device:GPU:0', '/job:localhost/replica:0/task:0/device:GPU:1', '/job:localhost/replica:0/task:0/device:GPU:2', '/job:localhost/replica:0/task:0/device:GPU:3')\n",
      "Model: \"sequential\"\n",
      "_________________________________________________________________\n",
      "Layer (type)                 Output Shape              Param #   \n",
      "=================================================================\n",
      "conv2d (Conv2D)              (None, 144, 216, 32)      896       \n",
      "_________________________________________________________________\n",
      "max_pooling2d (MaxPooling2D) (None, 72, 108, 32)       0         \n",
      "_________________________________________________________________\n",
      "dropout (Dropout)            (None, 72, 108, 32)       0         \n",
      "_________________________________________________________________\n",
      "conv2d_1 (Conv2D)            (None, 72, 108, 64)       18496     \n",
      "_________________________________________________________________\n",
      "max_pooling2d_1 (MaxPooling2 (None, 36, 54, 64)        0         \n",
      "_________________________________________________________________\n",
      "dropout_1 (Dropout)          (None, 36, 54, 64)        0         \n",
      "_________________________________________________________________\n",
      "flatten (Flatten)            (None, 124416)            0         \n",
      "_________________________________________________________________\n",
      "dense (Dense)                (None, 256)               31850752  \n",
      "_________________________________________________________________\n",
      "dropout_2 (Dropout)          (None, 256)               0         \n",
      "_________________________________________________________________\n",
      "dense_1 (Dense)              (None, 4)                 1028      \n",
      "=================================================================\n",
      "Total params: 31,871,172\n",
      "Trainable params: 31,871,172\n",
      "Non-trainable params: 0\n",
      "_________________________________________________________________\n",
      "Epoch 1/100\n",
      "INFO:tensorflow:batch_all_reduce: 8 all-reduces with algorithm = hierarchical_copy, num_packs = 1\n",
      "INFO:tensorflow:Reduce to /job:localhost/replica:0/task:0/device:CPU:0 then broadcast to ('/job:localhost/replica:0/task:0/device:CPU:0',).\n",
      "INFO:tensorflow:Reduce to /job:localhost/replica:0/task:0/device:CPU:0 then broadcast to ('/job:localhost/replica:0/task:0/device:CPU:0',).\n",
      "INFO:tensorflow:Reduce to /job:localhost/replica:0/task:0/device:CPU:0 then broadcast to ('/job:localhost/replica:0/task:0/device:CPU:0',).\n",
      "INFO:tensorflow:Reduce to /job:localhost/replica:0/task:0/device:CPU:0 then broadcast to ('/job:localhost/replica:0/task:0/device:CPU:0',).\n",
      "INFO:tensorflow:batch_all_reduce: 8 all-reduces with algorithm = hierarchical_copy, num_packs = 1\n",
      "INFO:tensorflow:Reduce to /job:localhost/replica:0/task:0/device:CPU:0 then broadcast to ('/job:localhost/replica:0/task:0/device:CPU:0',).\n",
      "INFO:tensorflow:Reduce to /job:localhost/replica:0/task:0/device:CPU:0 then broadcast to ('/job:localhost/replica:0/task:0/device:CPU:0',).\n",
      "INFO:tensorflow:Reduce to /job:localhost/replica:0/task:0/device:CPU:0 then broadcast to ('/job:localhost/replica:0/task:0/device:CPU:0',).\n",
      "INFO:tensorflow:Reduce to /job:localhost/replica:0/task:0/device:CPU:0 then broadcast to ('/job:localhost/replica:0/task:0/device:CPU:0',).\n",
      "150/150 [==============================] - ETA: 0s - loss: 2.1364 - accuracy: 0.4692INFO:tensorflow:Reduce to /job:localhost/replica:0/task:0/device:CPU:0 then broadcast to ('/job:localhost/replica:0/task:0/device:CPU:0',).\n",
      "INFO:tensorflow:Reduce to /job:localhost/replica:0/task:0/device:CPU:0 then broadcast to ('/job:localhost/replica:0/task:0/device:CPU:0',).\n",
      "\n",
      "Epoch 00001: val_loss improved from inf to 0.94131, saving model to C:/Users/PC/표/sleep_file/새 폴더/EDF_Data/eeg\n",
      "WARNING:tensorflow:From C:\\Users\\PC\\anaconda3\\lib\\site-packages\\tensorflow\\python\\ops\\resource_variable_ops.py:1813: calling BaseResourceVariable.__init__ (from tensorflow.python.ops.resource_variable_ops) with constraint is deprecated and will be removed in a future version.\n",
      "Instructions for updating:\n",
      "If using Keras pass *_constraint arguments to layers.\n",
      "INFO:tensorflow:Assets written to: C:/Users/PC/표/sleep_file/새 폴더/EDF_Data/eeg\\assets\n",
      "150/150 [==============================] - 20s 135ms/step - loss: 2.1364 - accuracy: 0.4692 - val_loss: 0.9413 - val_accuracy: 0.6200\n",
      "Epoch 2/100\n",
      "150/150 [==============================] - ETA: 0s - loss: 0.8337 - accuracy: 0.6375\n",
      "Epoch 00002: val_loss improved from 0.94131 to 0.74099, saving model to C:/Users/PC/표/sleep_file/새 폴더/EDF_Data/eeg\n",
      "INFO:tensorflow:Assets written to: C:/Users/PC/표/sleep_file/새 폴더/EDF_Data/eeg\\assets\n",
      "150/150 [==============================] - 18s 121ms/step - loss: 0.8337 - accuracy: 0.6375 - val_loss: 0.7410 - val_accuracy: 0.6783\n",
      "Epoch 3/100\n",
      "150/150 [==============================] - ETA: 0s - loss: 0.7063 - accuracy: 0.6833\n",
      "Epoch 00003: val_loss improved from 0.74099 to 0.69568, saving model to C:/Users/PC/표/sleep_file/새 폴더/EDF_Data/eeg\n",
      "INFO:tensorflow:Assets written to: C:/Users/PC/표/sleep_file/새 폴더/EDF_Data/eeg\\assets\n",
      "150/150 [==============================] - 18s 122ms/step - loss: 0.7063 - accuracy: 0.6833 - val_loss: 0.6957 - val_accuracy: 0.6950\n",
      "Epoch 4/100\n",
      "150/150 [==============================] - ETA: 0s - loss: 0.6828 - accuracy: 0.7146\n",
      "Epoch 00004: val_loss did not improve from 0.69568\n",
      "150/150 [==============================] - 16s 107ms/step - loss: 0.6828 - accuracy: 0.7146 - val_loss: 0.6995 - val_accuracy: 0.6850\n",
      "Epoch 5/100\n",
      "150/150 [==============================] - ETA: 0s - loss: 0.6051 - accuracy: 0.7304\n",
      "Epoch 00005: val_loss improved from 0.69568 to 0.65870, saving model to C:/Users/PC/표/sleep_file/새 폴더/EDF_Data/eeg\n",
      "INFO:tensorflow:Assets written to: C:/Users/PC/표/sleep_file/새 폴더/EDF_Data/eeg\\assets\n",
      "150/150 [==============================] - 18s 123ms/step - loss: 0.6051 - accuracy: 0.7304 - val_loss: 0.6587 - val_accuracy: 0.6900\n",
      "Epoch 6/100\n",
      "150/150 [==============================] - ETA: 0s - loss: 0.5841 - accuracy: 0.7538\n",
      "Epoch 00006: val_loss improved from 0.65870 to 0.64710, saving model to C:/Users/PC/표/sleep_file/새 폴더/EDF_Data/eeg\n",
      "INFO:tensorflow:Assets written to: C:/Users/PC/표/sleep_file/새 폴더/EDF_Data/eeg\\assets\n",
      "150/150 [==============================] - 18s 122ms/step - loss: 0.5841 - accuracy: 0.7538 - val_loss: 0.6471 - val_accuracy: 0.7100\n",
      "Epoch 7/100\n",
      "150/150 [==============================] - ETA: 0s - loss: 0.5380 - accuracy: 0.7754\n",
      "Epoch 00007: val_loss improved from 0.64710 to 0.64326, saving model to C:/Users/PC/표/sleep_file/새 폴더/EDF_Data/eeg\n",
      "INFO:tensorflow:Assets written to: C:/Users/PC/표/sleep_file/새 폴더/EDF_Data/eeg\\assets\n",
      "150/150 [==============================] - 18s 123ms/step - loss: 0.5380 - accuracy: 0.7754 - val_loss: 0.6433 - val_accuracy: 0.7333\n",
      "Epoch 8/100\n",
      "150/150 [==============================] - ETA: 0s - loss: 0.5163 - accuracy: 0.7729\n",
      "Epoch 00008: val_loss did not improve from 0.64326\n",
      "150/150 [==============================] - 16s 106ms/step - loss: 0.5163 - accuracy: 0.7729 - val_loss: 0.6542 - val_accuracy: 0.7367\n",
      "Epoch 9/100\n",
      "150/150 [==============================] - ETA: 0s - loss: 0.4856 - accuracy: 0.7921\n",
      "Epoch 00009: val_loss did not improve from 0.64326\n",
      "150/150 [==============================] - 16s 107ms/step - loss: 0.4856 - accuracy: 0.7921 - val_loss: 0.6514 - val_accuracy: 0.7317\n",
      "Epoch 10/100\n",
      "150/150 [==============================] - ETA: 0s - loss: 0.4519 - accuracy: 0.8054\n",
      "Epoch 00010: val_loss improved from 0.64326 to 0.62651, saving model to C:/Users/PC/표/sleep_file/새 폴더/EDF_Data/eeg\n",
      "INFO:tensorflow:Assets written to: C:/Users/PC/표/sleep_file/새 폴더/EDF_Data/eeg\\assets\n",
      "150/150 [==============================] - 18s 122ms/step - loss: 0.4519 - accuracy: 0.8054 - val_loss: 0.6265 - val_accuracy: 0.7417\n",
      "Epoch 11/100\n",
      "150/150 [==============================] - ETA: 0s - loss: 0.4147 - accuracy: 0.8163\n",
      "Epoch 00011: val_loss did not improve from 0.62651\n",
      "150/150 [==============================] - 16s 108ms/step - loss: 0.4147 - accuracy: 0.8163 - val_loss: 0.6833 - val_accuracy: 0.7283\n",
      "Epoch 12/100\n",
      "150/150 [==============================] - ETA: 0s - loss: 0.3970 - accuracy: 0.8317\n",
      "Epoch 00012: val_loss did not improve from 0.62651\n",
      "150/150 [==============================] - 16s 108ms/step - loss: 0.3970 - accuracy: 0.8317 - val_loss: 0.7230 - val_accuracy: 0.7400\n"
     ]
    },
    {
     "name": "stdout",
     "output_type": "stream",
     "text": [
      "Epoch 13/100\n",
      "150/150 [==============================] - ETA: 0s - loss: 0.3616 - accuracy: 0.8458\n",
      "Epoch 00013: val_loss did not improve from 0.62651\n",
      "150/150 [==============================] - 16s 108ms/step - loss: 0.3616 - accuracy: 0.8458 - val_loss: 0.6757 - val_accuracy: 0.7233\n",
      "Epoch 14/100\n",
      "150/150 [==============================] - ETA: 0s - loss: 0.3310 - accuracy: 0.8700\n",
      "Epoch 00014: val_loss did not improve from 0.62651\n",
      "150/150 [==============================] - 16s 106ms/step - loss: 0.3310 - accuracy: 0.8700 - val_loss: 0.7489 - val_accuracy: 0.7233\n",
      "Epoch 15/100\n",
      "150/150 [==============================] - ETA: 0s - loss: 0.3074 - accuracy: 0.8746\n",
      "Epoch 00015: val_loss did not improve from 0.62651\n",
      "150/150 [==============================] - 16s 106ms/step - loss: 0.3074 - accuracy: 0.8746 - val_loss: 0.8084 - val_accuracy: 0.7417\n",
      "Epoch 16/100\n",
      "150/150 [==============================] - ETA: 0s - loss: 0.2903 - accuracy: 0.8783\n",
      "Epoch 00016: val_loss did not improve from 0.62651\n",
      "150/150 [==============================] - 16s 106ms/step - loss: 0.2903 - accuracy: 0.8783 - val_loss: 0.6964 - val_accuracy: 0.7333\n",
      "32/32 [==============================] - 0s 8ms/step - loss: 0.6548 - accuracy: 0.7700\n",
      "정확도 : 0.7700\n",
      "INFO:tensorflow:Assets written to: eeg+eeg_fft+eog+eog_fft\\assets\n"
     ]
    },
    {
     "data": {
      "image/png": "[encoded data removed]",
      "text/plain": [
       "<Figure size 432x288 with 1 Axes>"
      ]
     },
     "metadata": {
      "needs_background": "light"
     },
     "output_type": "display_data"
    },
    {
     "name": "stdout",
     "output_type": "stream",
     "text": [
      "              precision    recall  f1-score   support\n",
      "\n",
      "           0       0.65      0.73      0.69       240\n",
      "           1       0.69      0.65      0.67       265\n",
      "           2       0.88      0.83      0.85       235\n",
      "           3       0.87      0.88      0.88       260\n",
      "\n",
      "    accuracy                           0.77      1000\n",
      "   macro avg       0.77      0.77      0.77      1000\n",
      "weighted avg       0.77      0.77      0.77      1000\n",
      "\n",
      "[[176  34   2  28]\n",
      " [ 66 172  23   4]\n",
      " [  5  35 194   1]\n",
      " [ 23   7   2 228]]\n"
     ]
    }
   ],
   "source": [
    "from PIL import Image\n",
    "import tensorflow as tf\n",
    "import os, glob, numpy as np\n",
    "from sklearn.model_selection import train_test_split\n",
    "import os, glob, numpy as np\n",
    "from tensorflow.keras.models import Sequential\n",
    "from tensorflow.keras.layers import Conv2D, MaxPooling2D, Dense, Flatten, Dropout\n",
    "from tensorflow.keras.callbacks import EarlyStopping, ModelCheckpoint\n",
    "import matplotlib.pyplot as plt\n",
    "%matplotlib inline \n",
    "\n",
    "\n",
    "\n",
    "# gpus = tf.config.experimental.list_physical_devices('GPU')\n",
    "# if gpus:\n",
    "#   try:\n",
    "#     for gpu in gpus:\n",
    "#       tf.config.experimental.set_memory_growth(gpu, True)\n",
    "#       logical_gpus = tf.config.experimental.list_logical_devices('GPU')\n",
    "#       print(len(gpus), \"Physical GPUs,\", len(logical_gpus), \"Logical GPUs\")\n",
    "#   except RuntimeError as e:\n",
    "#     print(e)\n",
    "\n",
    "X_train, X_test, y_train, y_test = np.load(\"C:/Users/PC/표/sleep_file/새 폴더/EDF_Data/eeg+eeg_fft+eog+eog_fft.npy\",allow_pickle=True)\n",
    "print(X_train.shape)\n",
    "print(X_train.shape[0])\n",
    "print(X_test.shape)\n",
    "# categories =[\"1_emg\", \"2_emg\",\"3_emg\",\"R_emg\"]\n",
    "categories =[\"1+1\",\"2+2\", \"3+3\",\"R+R\"]\n",
    "nb_classes = len(categories)\n",
    "\n",
    "#일반화\n",
    "print('진행중')\n",
    "X_train = X_train.astype(float) / 255\n",
    "X_test = X_test.astype(float) / 255\n",
    "print('진행중2')\n",
    "# strategy = tf.distribute.MirroredStrategy()\n",
    "# with strategy.scope():\n",
    "\n",
    "mirrored_strategy = tf.distribute.MirroredStrategy(devices=[\"/gpu:0\",\"/gpu:1\",\"/gpu:2\",\"/gpu:3\"],\n",
    "                      cross_device_ops=tf.distribute.HierarchicalCopyAllReduce())\n",
    "with mirrored_strategy.scope():\n",
    "    model = Sequential()\n",
    "    model.add(Conv2D(32, (3,3), padding=\"same\", input_shape=X_train.shape[1:], activation='relu'))\n",
    "    model.add(MaxPooling2D(pool_size=(2,2)))\n",
    "    model.add(Dropout(0.25))\n",
    "\n",
    "    model.add(Conv2D(64, (3,3), padding=\"same\", activation='relu'))\n",
    "    model.add(MaxPooling2D(pool_size=(2,2)))\n",
    "    model.add(Dropout(0.25))\n",
    "\n",
    "    model.add(Flatten())\n",
    "    model.add(Dense(256, activation='relu'))\n",
    "    model.add(Dropout(0.5))\n",
    "    model.add(Dense(nb_classes, activation='softmax'))\n",
    "    \n",
    "model.compile(loss='categorical_crossentropy', optimizer='adam', metrics=['accuracy'])\n",
    "model_dir = \"C:/Users/PC/표/sleep_file/새 폴더/EDF_Data\"\n",
    "\n",
    "if not os.path.exists(model_dir):\n",
    "    os.mkdir(model_dir)\n",
    "\n",
    "model_path = model_dir + '/eeg'\n",
    "checkpoint = ModelCheckpoint(filepath=model_path , monitor='val_loss', verbose=1, save_best_only=True)\n",
    "early_stopping = EarlyStopping(monitor='val_loss', patience=6)\n",
    "\n",
    "\n",
    "model.summary()\n",
    "history = model.fit(X_train, y_train, batch_size=16, epochs=100, validation_split=0.2, callbacks=[checkpoint, early_stopping])\n",
    "print(\"정확도 : %.4f\" % (model.evaluate(X_test, y_test)[1]))\n",
    "y_loss = history.history['loss']\n",
    "\n",
    "x_len = np.arange(len(y_loss))\n",
    "\n",
    "\n",
    "model.save('eeg+eeg_fft+eog+eog_fft')\n",
    "\n",
    "# plt.plot(history.history['loss'])\n",
    "# plt.plot(history.history['val_loss'])\n",
    "plt.plot(history.history['accuracy'])\n",
    "plt.plot(history.history['val_accuracy'])\n",
    "# plt.legend(['loss','val_loss', 'accuracy','val_accuracy'])\n",
    "plt.legend(['accuracy','val_accuracy'])\n",
    "plt.xlabel('epochs')\n",
    "plt.ylabel('accuracy')\n",
    "plt.ylim([0.5,1])\n",
    "plt.grid()\n",
    "plt.show()\n",
    "\n",
    "from sklearn.metrics import classification_report,confusion_matrix\n",
    "\n",
    "y_pred = model.predict(X_test)\n",
    "y_test_class = np.argmax(y_test,axis=1)\n",
    "y_pred_class = np.argmax(y_pred,axis=1)\n",
    "\n",
    "print(classification_report(y_test_class,y_pred_class))\n",
    "print(confusion_matrix(y_test_class,y_pred_class))\n"
   ]
  },
  {
   "cell_type": "code",
   "execution_count": null,
   "metadata": {},
   "outputs": [],
   "source": [
    "plt.plot(history.history['accuracy'])\n",
    "plt.plot(history.history['val_accuracy'])\n",
    "# plt.legend(['loss','val_loss', 'accuracy','val_accuracy'])\n",
    "plt.legend(['accuracy','val_accuracy'])\n",
    "plt.xlabel('epochs')\n",
    "plt.ylabel('accuracy')\n",
    "plt.ylim([0.5,1])\n",
    "plt.grid()\n",
    "plt.show()"
   ]
  },
  {
   "cell_type": "code",
   "execution_count": 3,
   "metadata": {},
   "outputs": [],
   "source": [
    "accuracy = history.history['accuracy']\n",
    "val_accuracy = history.history['val_accuracy']"
   ]
  },
  {
   "cell_type": "code",
   "execution_count": 6,
   "metadata": {},
   "outputs": [
    {
     "data": {
      "text/plain": [
       "0.7333333492279053"
      ]
     },
     "execution_count": 6,
     "metadata": {},
     "output_type": "execute_result"
    }
   ],
   "source": [
    "accuracy.pop()\n",
    "val_accuracy.pop()"
   ]
  },
  {
   "cell_type": "code",
   "execution_count": 7,
   "metadata": {},
   "outputs": [
    {
     "data": {
      "image/png": "[encoded data removed]",
      "text/plain": [
       "<Figure size 432x288 with 1 Axes>"
      ]
     },
     "metadata": {
      "needs_background": "light"
     },
     "output_type": "display_data"
    }
   ],
   "source": [
    "plt.plot(accuracy)\n",
    "plt.plot(val_accuracy)\n",
    "# plt.legend(['loss','val_loss', 'accuracy','val_accuracy'])\n",
    "plt.legend(['accuracy','val_accuracy'])\n",
    "plt.xlabel('epochs')\n",
    "plt.ylabel('accuracy')\n",
    "plt.ylim([0.5,1])\n",
    "plt.grid()\n",
    "plt.show()"
   ]
  },
  {
   "cell_type": "code",
   "execution_count": null,
   "metadata": {},
   "outputs": [],
   "source": []
  }
 ],
 "metadata": {
  "kernelspec": {
   "display_name": "Python 3",
   "language": "python",
   "name": "python3"
  },
  "language_info": {
   "codemirror_mode": {
    "name": "ipython",
    "version": 3
   },
   "file_extension": ".py",
   "mimetype": "text/x-python",
   "name": "python",
   "nbconvert_exporter": "python",
   "pygments_lexer": "ipython3",
   "version": "3.8.5"
  }
 },
 "nbformat": 4,
 "nbformat_minor": 4
}
