{
 "cells": [
  {
   "cell_type": "code",
   "execution_count": null,
   "metadata": {},
   "outputs": [],
   "source": [
    "import os\n",
    "from PIL import Image \n",
    "def image(file):\n",
    "    for i in os.listdir(\"C:/Users/PC/표/cnn_eeg/train_data/R_eeg_fft\") : \n",
    "        if i.startswith(file): \n",
    "            if len(i) == 9 : \n",
    "                i = i[4:5] \n",
    "                image1 = Image.open('C:/Users/PC/표/cnn_eeg/train_data/R_eeg_fft/'+file+'_'+i + '.png') \n",
    "                image2 = Image.open('C:/Users/PC/표/cnn_eeg/train_data/R_eog_fft/'+file+'_'+i + '.png') \n",
    "                merged = Image.new('L',(864,576)) \n",
    "                merged.paste(image1,(0,0)) \n",
    "                merged.paste(image2,(432,0)) \n",
    "                merged.save(\"C:/Users/PC/표/cnn_eeg/train_data/R_eeg_fft+eog_fft/\"+file+'_'+i+\".png\",\"png\") \n",
    "            if len(i) == 10 : \n",
    "                i= i[4:6] \n",
    "                image1 = Image.open('C:/Users/PC/표/cnn_eeg/train_data/R_eeg_fft/'+file+'_'+i + '.png') \n",
    "                image2 = Image.open('C:/Users/PC/표/cnn_eeg/train_data/R_eog_fft/'+file+'_'+i + '.png') \n",
    "                merged = Image.new('L',(864,576)) \n",
    "                merged.paste(image1,(0,0)) \n",
    "                merged.paste(image2,(432,0)) \n",
    "                merged.save(\"C:/Users/PC/표/cnn_eeg/train_data/R_eeg_fft+eog_fft/\"+file+'_'+i+\".png\",\"png\") \n",
    "            if len(i) == 11 : \n",
    "                i = i[4:7] \n",
    "                image1 = Image.open('C:/Users/PC/표/cnn_eeg/train_data/R_eeg_fft/'+file+'_'+i + '.png') \n",
    "                image2 = Image.open('C:/Users/PC/표/cnn_eeg/train_data/R_eog_fft/'+file+'_'+i + '.png') \n",
    "                merged = Image.new('L',(864,576)) \n",
    "                merged.paste(image1,(0,0)) \n",
    "                merged.paste(image2,(432,0)) \n",
    "                merged.save(\"C:/Users/PC/표/cnn_eeg/train_data/R_eeg_fft+eog_fft/\"+file+'_'+i+\".png\",\"png\")\n",
    "def menu():\n",
    "    print(\"■■■■■■■■■■■■■\")\n",
    "    print(\"■  1.시           작   ■\")\n",
    "    print(\"■                      ■\")\n",
    "    print(\"■  2.프 로 그 램 종료  ■\")\n",
    "    print(\"■■■■■■■■■■■■■\")\n",
    "\n",
    "menu() \n",
    "ch = int(input(\"\\n입력 >>\")) \n",
    "\n",
    "while True :\n",
    "    if ch == 1:\n",
    "        file = input(\"파일이름 : \")\n",
    "        image(file)        \n",
    "        continue\n",
    "    if ch==2 :\n",
    "        break"
   ]
  }
 ],
 "metadata": {
  "kernelspec": {
   "display_name": "Python 3",
   "language": "python",
   "name": "python3"
  },
  "language_info": {
   "codemirror_mode": {
    "name": "ipython",
    "version": 3
   },
   "file_extension": ".py",
   "mimetype": "text/x-python",
   "name": "python",
   "nbconvert_exporter": "python",
   "pygments_lexer": "ipython3",
   "version": "3.8.5"
  }
 },
 "nbformat": 4,
 "nbformat_minor": 4
}
